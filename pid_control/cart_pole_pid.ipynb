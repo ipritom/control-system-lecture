{
 "cells": [
  {
   "cell_type": "code",
   "execution_count": 1,
   "metadata": {},
   "outputs": [],
   "source": [
    "%matplotlib tk"
   ]
  },
  {
   "cell_type": "code",
   "execution_count": 2,
   "metadata": {},
   "outputs": [],
   "source": [
    "import gym\n",
    "import numpy as np\n",
    "import math\n",
    "from pid import PID\n",
    "import time\n",
    "\n",
    "from anim.monitor import Plot, LiveMonitor"
   ]
  },
  {
   "cell_type": "code",
   "execution_count": 3,
   "metadata": {},
   "outputs": [],
   "source": [
    "env = gym.make('CartPole-v1', render_mode='human')"
   ]
  },
  {
   "cell_type": "code",
   "execution_count": 38,
   "metadata": {},
   "outputs": [],
   "source": [
    "class Agent:\n",
    "    def __init__(self, \n",
    "                 env:gym.Env\n",
    "                 ) -> None:\n",
    "        \n",
    "        self.env = env\n",
    "\n",
    "        # self.pid = PID(target=0, kp=0.01, ki=0.00001, kd=0.02)\n",
    "        self.pid = PID(target=0, kp=0, ki=0, kd=0)\n",
    "\n",
    "\n",
    "    def bang_bang_controller(self, state):\n",
    "        angle = np.rad2deg(state[2])\n",
    "        \n",
    "        if angle>0:\n",
    "            return 1 # Push cart to the right\n",
    "        else:\n",
    "            return 0 # Push cart to the left\n",
    "\n",
    "    def pid_controller(self,state):\n",
    "        proceess_value = np.rad2deg(state[2])\n",
    "        control_value = self.pid.control_value(proceess_value)\n",
    "        self.control_plot.update_plot(control_value*10)\n",
    "        \n",
    "        if control_value <0:\n",
    "            return 1\n",
    "        else:\n",
    "            return 0\n",
    "        \n",
    "        \n",
    "\n",
    "    def get_action(self, state):\n",
    "        # action = self.bang_bang_controller(state)\n",
    "        action = self.pid_controller(state)\n",
    "\n",
    "        return action\n",
    "\n",
    "\n",
    "    def play(self):\n",
    "        # plotting \n",
    "        angle_plot = Plot(title=\"angle\")\n",
    "        self.control_plot = Plot(title=\"control\")\n",
    "        # action_plot = Plot(title=\"action\")\n",
    "        # live = LiveMonitor(pause=0)\n",
    "        # live.plot_list = [angle_plot, self.control_plot]\n",
    "\n",
    "        state, _ = env.reset()\n",
    "        terminated = False\n",
    "        truncated = False\n",
    "        total_reward = 0\n",
    "        episode_len = 0\n",
    "\n",
    "        while not any([terminated, truncated]):\n",
    "        # while not truncated:\n",
    "            # monitor\n",
    "            angle = np.rad2deg(state[2])\n",
    "            angle_plot.update_plot(angle)\n",
    "            \n",
    "    \n",
    "            # action = self.get_action(state, exploration_rate=-1)\n",
    "            action = self.get_action(state)\n",
    "            state, reward, terminated, truncated, _ = env.step(action)\n",
    "            total_reward +=reward\n",
    "            episode_len += 1\n",
    "            \n",
    "            # action_plot.update_plot(action*20)\n",
    "            # control_plot.update_plot(c*10)\n",
    "            # live.update()\n",
    "            \n",
    "        # print(\"REWARD\", total_reward, \"FRAMES\", episode_len)\n",
    "        print(\"REWARD\", total_reward)"
   ]
  },
  {
   "cell_type": "code",
   "execution_count": 43,
   "metadata": {},
   "outputs": [
    {
     "name": "stdout",
     "output_type": "stream",
     "text": [
      "REWARD 500.0\n"
     ]
    }
   ],
   "source": [
    "agent = Agent(env=env)\n",
    "\n",
    "agent.pid.kp = 0.25\n",
    "agent.pid.kd = 0.6\n",
    "agent.pid.ki = 0.0001\n",
    "\n",
    "agent.play()"
   ]
  },
  {
   "cell_type": "markdown",
   "metadata": {},
   "source": []
  },
  {
   "cell_type": "code",
   "execution_count": null,
   "metadata": {},
   "outputs": [],
   "source": []
  },
  {
   "cell_type": "code",
   "execution_count": 24,
   "metadata": {},
   "outputs": [],
   "source": [
    "# kp = 1, Kd = 2, ki = 0 "
   ]
  },
  {
   "cell_type": "code",
   "execution_count": null,
   "metadata": {},
   "outputs": [],
   "source": []
  }
 ],
 "metadata": {
  "kernelspec": {
   "display_name": "RLml",
   "language": "python",
   "name": "python3"
  },
  "language_info": {
   "codemirror_mode": {
    "name": "ipython",
    "version": 3
   },
   "file_extension": ".py",
   "mimetype": "text/x-python",
   "name": "python",
   "nbconvert_exporter": "python",
   "pygments_lexer": "ipython3",
   "version": "3.10.4"
  }
 },
 "nbformat": 4,
 "nbformat_minor": 2
}
