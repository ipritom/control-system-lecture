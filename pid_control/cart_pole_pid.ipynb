{
 "cells": [
  {
   "cell_type": "code",
   "execution_count": 8,
   "metadata": {},
   "outputs": [],
   "source": [
    "%matplotlib tk"
   ]
  },
  {
   "cell_type": "code",
   "execution_count": 9,
   "metadata": {},
   "outputs": [],
   "source": [
    "import gym\n",
    "import numpy as np\n",
    "import math\n",
    "from pid import PID\n",
    "import time\n",
    "\n",
    "from anim.monitor import Plot, LiveMonitor"
   ]
  },
  {
   "cell_type": "code",
   "execution_count": 10,
   "metadata": {},
   "outputs": [],
   "source": [
    "env = gym.make('CartPole-v1', render_mode='human')"
   ]
  },
  {
   "cell_type": "code",
   "execution_count": 13,
   "metadata": {},
   "outputs": [],
   "source": [
    "class Agent:\n",
    "    def __init__(self, \n",
    "                 env:gym.Env\n",
    "                 ) -> None:\n",
    "        \n",
    "        self.env = env\n",
    "\n",
    "        # self.pid = PID(target=0, kp=0.01, ki=0.00001, kd=0.02)\n",
    "        self.pid = PID(target=0, kp=0, ki=0, kd=0)\n",
    "\n",
    "\n",
    "    def bang_bang_controller(self, state):\n",
    "        angle = np.rad2deg(state[2])\n",
    "        if angle>0:\n",
    "            return 1\n",
    "        else:\n",
    "            return 0\n",
    "\n",
    "    def pid_controller(self,state):\n",
    "        proceess_value = np.rad2deg(state[2])\n",
    "        control_value = self.pid.control_value(proceess_value)\n",
    "\n",
    "        return control_value\n",
    "        \n",
    "\n",
    "    def get_action(self, state):\n",
    "        action = None\n",
    "        control_value = self.pid_controller(state)\n",
    "\n",
    "        if control_value <0:\n",
    "            action = 1\n",
    "        else:\n",
    "            action = 0\n",
    "\n",
    "        return control_value, action\n",
    "        # return control_value, self.bang_bang_controller(state)\n",
    "\n",
    "\n",
    "    def play(self):\n",
    "        # plotting \n",
    "        # angle_plot = Plot(title=\"angle\")\n",
    "        # control_plot = Plot(title=\"control\")\n",
    "        # action_plot = Plot(title=\"action\")\n",
    "        # live = LiveMonitor(pause=0)\n",
    "        # live.plot_list = [angle_plot, control_plot, action_plot]\n",
    "\n",
    "        state, _ = env.reset()\n",
    "        terminated = False\n",
    "        truncated = False\n",
    "        total_reward = 0\n",
    "        episode_len = 0\n",
    "\n",
    "        while not any([terminated, truncated]):\n",
    "            # monitor\n",
    "            # angle = np.rad2deg(state[2])\n",
    "            # angle_plot.update_plot(angle)\n",
    "            \n",
    "    \n",
    "            # action = self.get_action(state, exploration_rate=-1)\n",
    "            c, action = self.get_action(state)\n",
    "            state, reward, terminated, truncated, _ = env.step(action)\n",
    "            total_reward +=reward\n",
    "            episode_len += 1\n",
    "            \n",
    "            # action_plot.update_plot(action*20)\n",
    "            # control_plot.update_plot(c*10)\n",
    "            # live.update()\n",
    "            \n",
    "        # print(\"REWARD\", total_reward, \"FRAMES\", episode_len)\n",
    "        print(\"REWARD\", total_reward)"
   ]
  },
  {
   "cell_type": "code",
   "execution_count": 20,
   "metadata": {},
   "outputs": [
    {
     "ename": "KeyboardInterrupt",
     "evalue": "",
     "output_type": "error",
     "traceback": [
      "\u001b[1;31m---------------------------------------------------------------------------\u001b[0m",
      "\u001b[1;31mKeyboardInterrupt\u001b[0m                         Traceback (most recent call last)",
      "\u001b[1;32md:\\Projects\\control-system-lecture\\pid_control\\cart_pole_pid.ipynb Cell 5\u001b[0m line \u001b[0;36m7\n\u001b[0;32m      <a href='vscode-notebook-cell:/d%3A/Projects/control-system-lecture/pid_control/cart_pole_pid.ipynb#W4sZmlsZQ%3D%3D?line=3'>4</a>\u001b[0m agent\u001b[39m.\u001b[39mpid\u001b[39m.\u001b[39mkd \u001b[39m=\u001b[39m \u001b[39m1\u001b[39m\n\u001b[0;32m      <a href='vscode-notebook-cell:/d%3A/Projects/control-system-lecture/pid_control/cart_pole_pid.ipynb#W4sZmlsZQ%3D%3D?line=4'>5</a>\u001b[0m agent\u001b[39m.\u001b[39mpid\u001b[39m.\u001b[39mki \u001b[39m=\u001b[39m \u001b[39m0\u001b[39m\n\u001b[1;32m----> <a href='vscode-notebook-cell:/d%3A/Projects/control-system-lecture/pid_control/cart_pole_pid.ipynb#W4sZmlsZQ%3D%3D?line=6'>7</a>\u001b[0m agent\u001b[39m.\u001b[39;49mplay()\n",
      "\u001b[1;32md:\\Projects\\control-system-lecture\\pid_control\\cart_pole_pid.ipynb Cell 5\u001b[0m line \u001b[0;36m6\n\u001b[0;32m     <a href='vscode-notebook-cell:/d%3A/Projects/control-system-lecture/pid_control/cart_pole_pid.ipynb#W4sZmlsZQ%3D%3D?line=52'>53</a>\u001b[0m \u001b[39mwhile\u001b[39;00m \u001b[39mnot\u001b[39;00m \u001b[39many\u001b[39m([terminated, truncated]):\n\u001b[0;32m     <a href='vscode-notebook-cell:/d%3A/Projects/control-system-lecture/pid_control/cart_pole_pid.ipynb#W4sZmlsZQ%3D%3D?line=53'>54</a>\u001b[0m     \u001b[39m# monitor\u001b[39;00m\n\u001b[0;32m     <a href='vscode-notebook-cell:/d%3A/Projects/control-system-lecture/pid_control/cart_pole_pid.ipynb#W4sZmlsZQ%3D%3D?line=54'>55</a>\u001b[0m     \u001b[39m# angle = np.rad2deg(state[2])\u001b[39;00m\n\u001b[1;32m   (...)\u001b[0m\n\u001b[0;32m     <a href='vscode-notebook-cell:/d%3A/Projects/control-system-lecture/pid_control/cart_pole_pid.ipynb#W4sZmlsZQ%3D%3D?line=57'>58</a>\u001b[0m \n\u001b[0;32m     <a href='vscode-notebook-cell:/d%3A/Projects/control-system-lecture/pid_control/cart_pole_pid.ipynb#W4sZmlsZQ%3D%3D?line=58'>59</a>\u001b[0m     \u001b[39m# action = self.get_action(state, exploration_rate=-1)\u001b[39;00m\n\u001b[0;32m     <a href='vscode-notebook-cell:/d%3A/Projects/control-system-lecture/pid_control/cart_pole_pid.ipynb#W4sZmlsZQ%3D%3D?line=59'>60</a>\u001b[0m     c, action \u001b[39m=\u001b[39m \u001b[39mself\u001b[39m\u001b[39m.\u001b[39mget_action(state)\n\u001b[1;32m---> <a href='vscode-notebook-cell:/d%3A/Projects/control-system-lecture/pid_control/cart_pole_pid.ipynb#W4sZmlsZQ%3D%3D?line=60'>61</a>\u001b[0m     state, reward, terminated, truncated, _ \u001b[39m=\u001b[39m env\u001b[39m.\u001b[39;49mstep(action)\n\u001b[0;32m     <a href='vscode-notebook-cell:/d%3A/Projects/control-system-lecture/pid_control/cart_pole_pid.ipynb#W4sZmlsZQ%3D%3D?line=61'>62</a>\u001b[0m     total_reward \u001b[39m+\u001b[39m\u001b[39m=\u001b[39mreward\n\u001b[0;32m     <a href='vscode-notebook-cell:/d%3A/Projects/control-system-lecture/pid_control/cart_pole_pid.ipynb#W4sZmlsZQ%3D%3D?line=62'>63</a>\u001b[0m     episode_len \u001b[39m+\u001b[39m\u001b[39m=\u001b[39m \u001b[39m1\u001b[39m\n",
      "File \u001b[1;32mc:\\Users\\Pritom\\miniconda3\\envs\\drl\\lib\\site-packages\\gym\\wrappers\\time_limit.py:50\u001b[0m, in \u001b[0;36mTimeLimit.step\u001b[1;34m(self, action)\u001b[0m\n\u001b[0;32m     39\u001b[0m \u001b[39mdef\u001b[39;00m \u001b[39mstep\u001b[39m(\u001b[39mself\u001b[39m, action):\n\u001b[0;32m     40\u001b[0m \u001b[39m    \u001b[39m\u001b[39m\"\"\"Steps through the environment and if the number of steps elapsed exceeds ``max_episode_steps`` then truncate.\u001b[39;00m\n\u001b[0;32m     41\u001b[0m \n\u001b[0;32m     42\u001b[0m \u001b[39m    Args:\u001b[39;00m\n\u001b[1;32m   (...)\u001b[0m\n\u001b[0;32m     48\u001b[0m \n\u001b[0;32m     49\u001b[0m \u001b[39m    \"\"\"\u001b[39;00m\n\u001b[1;32m---> 50\u001b[0m     observation, reward, terminated, truncated, info \u001b[39m=\u001b[39m \u001b[39mself\u001b[39;49m\u001b[39m.\u001b[39;49menv\u001b[39m.\u001b[39;49mstep(action)\n\u001b[0;32m     51\u001b[0m     \u001b[39mself\u001b[39m\u001b[39m.\u001b[39m_elapsed_steps \u001b[39m+\u001b[39m\u001b[39m=\u001b[39m \u001b[39m1\u001b[39m\n\u001b[0;32m     53\u001b[0m     \u001b[39mif\u001b[39;00m \u001b[39mself\u001b[39m\u001b[39m.\u001b[39m_elapsed_steps \u001b[39m>\u001b[39m\u001b[39m=\u001b[39m \u001b[39mself\u001b[39m\u001b[39m.\u001b[39m_max_episode_steps:\n",
      "File \u001b[1;32mc:\\Users\\Pritom\\miniconda3\\envs\\drl\\lib\\site-packages\\gym\\wrappers\\order_enforcing.py:37\u001b[0m, in \u001b[0;36mOrderEnforcing.step\u001b[1;34m(self, action)\u001b[0m\n\u001b[0;32m     35\u001b[0m \u001b[39mif\u001b[39;00m \u001b[39mnot\u001b[39;00m \u001b[39mself\u001b[39m\u001b[39m.\u001b[39m_has_reset:\n\u001b[0;32m     36\u001b[0m     \u001b[39mraise\u001b[39;00m ResetNeeded(\u001b[39m\"\u001b[39m\u001b[39mCannot call env.step() before calling env.reset()\u001b[39m\u001b[39m\"\u001b[39m)\n\u001b[1;32m---> 37\u001b[0m \u001b[39mreturn\u001b[39;00m \u001b[39mself\u001b[39;49m\u001b[39m.\u001b[39;49menv\u001b[39m.\u001b[39;49mstep(action)\n",
      "File \u001b[1;32mc:\\Users\\Pritom\\miniconda3\\envs\\drl\\lib\\site-packages\\gym\\wrappers\\env_checker.py:39\u001b[0m, in \u001b[0;36mPassiveEnvChecker.step\u001b[1;34m(self, action)\u001b[0m\n\u001b[0;32m     37\u001b[0m     \u001b[39mreturn\u001b[39;00m env_step_passive_checker(\u001b[39mself\u001b[39m\u001b[39m.\u001b[39menv, action)\n\u001b[0;32m     38\u001b[0m \u001b[39melse\u001b[39;00m:\n\u001b[1;32m---> 39\u001b[0m     \u001b[39mreturn\u001b[39;00m \u001b[39mself\u001b[39;49m\u001b[39m.\u001b[39;49menv\u001b[39m.\u001b[39;49mstep(action)\n",
      "File \u001b[1;32mc:\\Users\\Pritom\\miniconda3\\envs\\drl\\lib\\site-packages\\gym\\envs\\classic_control\\cartpole.py:187\u001b[0m, in \u001b[0;36mCartPoleEnv.step\u001b[1;34m(self, action)\u001b[0m\n\u001b[0;32m    184\u001b[0m     reward \u001b[39m=\u001b[39m \u001b[39m0.0\u001b[39m\n\u001b[0;32m    186\u001b[0m \u001b[39mif\u001b[39;00m \u001b[39mself\u001b[39m\u001b[39m.\u001b[39mrender_mode \u001b[39m==\u001b[39m \u001b[39m\"\u001b[39m\u001b[39mhuman\u001b[39m\u001b[39m\"\u001b[39m:\n\u001b[1;32m--> 187\u001b[0m     \u001b[39mself\u001b[39;49m\u001b[39m.\u001b[39;49mrender()\n\u001b[0;32m    188\u001b[0m \u001b[39mreturn\u001b[39;00m np\u001b[39m.\u001b[39marray(\u001b[39mself\u001b[39m\u001b[39m.\u001b[39mstate, dtype\u001b[39m=\u001b[39mnp\u001b[39m.\u001b[39mfloat32), reward, terminated, \u001b[39mFalse\u001b[39;00m, {}\n",
      "File \u001b[1;32mc:\\Users\\Pritom\\miniconda3\\envs\\drl\\lib\\site-packages\\gym\\envs\\classic_control\\cartpole.py:290\u001b[0m, in \u001b[0;36mCartPoleEnv.render\u001b[1;34m(self)\u001b[0m\n\u001b[0;32m    288\u001b[0m \u001b[39mif\u001b[39;00m \u001b[39mself\u001b[39m\u001b[39m.\u001b[39mrender_mode \u001b[39m==\u001b[39m \u001b[39m\"\u001b[39m\u001b[39mhuman\u001b[39m\u001b[39m\"\u001b[39m:\n\u001b[0;32m    289\u001b[0m     pygame\u001b[39m.\u001b[39mevent\u001b[39m.\u001b[39mpump()\n\u001b[1;32m--> 290\u001b[0m     \u001b[39mself\u001b[39;49m\u001b[39m.\u001b[39;49mclock\u001b[39m.\u001b[39;49mtick(\u001b[39mself\u001b[39;49m\u001b[39m.\u001b[39;49mmetadata[\u001b[39m\"\u001b[39;49m\u001b[39mrender_fps\u001b[39;49m\u001b[39m\"\u001b[39;49m])\n\u001b[0;32m    291\u001b[0m     pygame\u001b[39m.\u001b[39mdisplay\u001b[39m.\u001b[39mflip()\n\u001b[0;32m    293\u001b[0m \u001b[39melif\u001b[39;00m \u001b[39mself\u001b[39m\u001b[39m.\u001b[39mrender_mode \u001b[39m==\u001b[39m \u001b[39m\"\u001b[39m\u001b[39mrgb_array\u001b[39m\u001b[39m\"\u001b[39m:\n",
      "\u001b[1;31mKeyboardInterrupt\u001b[0m: "
     ]
    }
   ],
   "source": [
    "agent = Agent(env=env)\n",
    "\n",
    "agent.pid.kp = 0.01\n",
    "agent.pid.kd = 1\n",
    "agent.pid.ki = 0\n",
    "\n",
    "agent.play()"
   ]
  },
  {
   "cell_type": "code",
   "execution_count": null,
   "metadata": {},
   "outputs": [],
   "source": []
  },
  {
   "cell_type": "code",
   "execution_count": null,
   "metadata": {},
   "outputs": [],
   "source": []
  }
 ],
 "metadata": {
  "kernelspec": {
   "display_name": "RLml",
   "language": "python",
   "name": "python3"
  },
  "language_info": {
   "codemirror_mode": {
    "name": "ipython",
    "version": 3
   },
   "file_extension": ".py",
   "mimetype": "text/x-python",
   "name": "python",
   "nbconvert_exporter": "python",
   "pygments_lexer": "ipython3",
   "version": "3.10.4"
  }
 },
 "nbformat": 4,
 "nbformat_minor": 2
}
